{
 "cells": [
  {
   "cell_type": "code",
   "execution_count": 15,
   "id": "1601089f",
   "metadata": {},
   "outputs": [],
   "source": [
    "from datetime import datetime\n",
    "import json\n",
    "\n",
    "from youtube_api import YouTubeApi"
   ]
  },
  {
   "cell_type": "code",
   "execution_count": 2,
   "id": "c7abac7e",
   "metadata": {},
   "outputs": [],
   "source": [
    "api = YouTubeApi()"
   ]
  },
  {
   "cell_type": "code",
   "execution_count": 40,
   "id": "1ac8bf95",
   "metadata": {},
   "outputs": [],
   "source": [
    "data = api.search(\n",
    "    query='Xinjiang',\n",
    "    start=datetime(2021, 3, 1),\n",
    "    end=datetime(2021, 4, 1))"
   ]
  },
  {
   "cell_type": "code",
   "execution_count": 41,
   "id": "e1db341b",
   "metadata": {},
   "outputs": [
    {
     "data": {
      "text/plain": [
       "191"
      ]
     },
     "execution_count": 41,
     "metadata": {},
     "output_type": "execute_result"
    }
   ],
   "source": [
    "len(data)"
   ]
  },
  {
   "cell_type": "code",
   "execution_count": 37,
   "id": "c3899f1b",
   "metadata": {},
   "outputs": [
    {
     "data": {
      "text/plain": [
       "datetime.datetime(2021, 1, 6, 13, 0, 31)"
      ]
     },
     "execution_count": 37,
     "metadata": {},
     "output_type": "execute_result"
    }
   ],
   "source": [
    "min(x.created_at for x in data)"
   ]
  },
  {
   "cell_type": "code",
   "execution_count": 38,
   "id": "2c469c5e",
   "metadata": {},
   "outputs": [
    {
     "data": {
      "text/plain": [
       "datetime.datetime(2022, 12, 31, 19, 29, 39)"
      ]
     },
     "execution_count": 38,
     "metadata": {},
     "output_type": "execute_result"
    }
   ],
   "source": [
    "max(x.created_at for x in data)"
   ]
  },
  {
   "cell_type": "code",
   "execution_count": 39,
   "id": "48c94f07",
   "metadata": {},
   "outputs": [],
   "source": [
    "with open('temp/Hong Kong.jsonl', 'w+') as f:\n",
    "    for x in data:\n",
    "        f.write(x.to_json() + '\\n')"
   ]
  },
  {
   "cell_type": "code",
   "execution_count": null,
   "id": "f617817b",
   "metadata": {},
   "outputs": [],
   "source": []
  }
 ],
 "metadata": {
  "kernelspec": {
   "display_name": "Python 3 (ipykernel)",
   "language": "python",
   "name": "python3"
  },
  "language_info": {
   "codemirror_mode": {
    "name": "ipython",
    "version": 3
   },
   "file_extension": ".py",
   "mimetype": "text/x-python",
   "name": "python",
   "nbconvert_exporter": "python",
   "pygments_lexer": "ipython3",
   "version": "3.9.5"
  }
 },
 "nbformat": 4,
 "nbformat_minor": 5
}
