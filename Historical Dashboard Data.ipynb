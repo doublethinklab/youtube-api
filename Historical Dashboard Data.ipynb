{
 "cells": [
  {
   "cell_type": "code",
   "execution_count": 1,
   "id": "f7602625",
   "metadata": {},
   "outputs": [
    {
     "name": "stdout",
     "output_type": "stream",
     "text": [
      "Requirement already satisfied: pandas in /usr/local/lib/python3.12/site-packages (2.1.1)\n",
      "Requirement already satisfied: numpy>=1.26.0 in /usr/local/lib/python3.12/site-packages (from pandas) (1.26.1)\n",
      "Requirement already satisfied: python-dateutil>=2.8.2 in /usr/local/lib/python3.12/site-packages (from pandas) (2.8.2)\n",
      "Requirement already satisfied: pytz>=2020.1 in /usr/local/lib/python3.12/site-packages (from pandas) (2023.3.post1)\n",
      "Requirement already satisfied: tzdata>=2022.1 in /usr/local/lib/python3.12/site-packages (from pandas) (2023.3)\n",
      "Requirement already satisfied: six>=1.5 in /usr/local/lib/python3.12/site-packages (from python-dateutil>=2.8.2->pandas) (1.16.0)\n",
      "\u001b[33mWARNING: Running pip as the 'root' user can result in broken permissions and conflicting behaviour with the system package manager. It is recommended to use a virtual environment instead: https://pip.pypa.io/warnings/venv\u001b[0m\u001b[33m\n",
      "\u001b[0m"
     ]
    }
   ],
   "source": [
    "!pip install pandas"
   ]
  },
  {
   "cell_type": "code",
   "execution_count": 1,
   "id": "f36a0004",
   "metadata": {},
   "outputs": [],
   "source": [
    "from datetime import datetime\n",
    "import json\n",
    "\n",
    "import pandas as pd\n",
    "\n",
    "from youtube_api import YouTubeApi"
   ]
  },
  {
   "cell_type": "code",
   "execution_count": 2,
   "id": "ae224526",
   "metadata": {},
   "outputs": [],
   "source": [
    "df = pd.read_csv('temp/tracked_yt.csv')\n",
    "df = df[df.channel_name != '哈喽 阿生']  # seems to be gone"
   ]
  },
  {
   "cell_type": "code",
   "execution_count": 3,
   "id": "7d4f8735",
   "metadata": {},
   "outputs": [],
   "source": [
    "api = YouTubeApi()"
   ]
  },
  {
   "cell_type": "markdown",
   "id": "6b18e1fe-1c1c-48cd-89f5-d77028bcb8d5",
   "metadata": {},
   "source": [
    "Let's get it right for one stream id first, then do them all."
   ]
  },
  {
   "cell_type": "code",
   "execution_count": 4,
   "id": "e6eff45b-86ef-4573-b03a-aade35a73f69",
   "metadata": {},
   "outputs": [],
   "source": [
    "start = datetime(2023, 8, 1)\n",
    "end = datetime(2023, 10, 15)"
   ]
  },
  {
   "cell_type": "code",
   "execution_count": 5,
   "id": "ac562194-4c43-4e69-a172-742502357a59",
   "metadata": {},
   "outputs": [],
   "source": [
    "sid = 'UUgrNz-aDmcr2uuto8_DL2jg'  # CGTN"
   ]
  },
  {
   "cell_type": "code",
   "execution_count": 6,
   "id": "7161c81c-fa83-4487-86b6-480a286043d5",
   "metadata": {
    "scrolled": true
   },
   "outputs": [],
   "source": [
    "data = api.get_channel_videos(\n",
    "    channel_stream_id=sid,\n",
    "    start=start,\n",
    "    end=end)"
   ]
  },
  {
   "cell_type": "code",
   "execution_count": 7,
   "id": "61085941-7c47-4dbc-9e44-b8567e95cfcb",
   "metadata": {},
   "outputs": [
    {
     "data": {
      "text/plain": [
       "2689"
      ]
     },
     "execution_count": 7,
     "metadata": {},
     "output_type": "execute_result"
    }
   ],
   "source": [
    "len(data)"
   ]
  },
  {
   "cell_type": "code",
   "execution_count": 8,
   "id": "66068e53-f028-4d83-ba85-add66c08f331",
   "metadata": {},
   "outputs": [],
   "source": [
    "stream2data = {\n",
    "    'UUgrNz-aDmcr2uuto8_DL2jg': data,\n",
    "}"
   ]
  },
  {
   "cell_type": "code",
   "execution_count": 11,
   "id": "d20ffe40-2a07-4337-9f6b-413e45367118",
   "metadata": {},
   "outputs": [],
   "source": [
    "for x in list(df.stream_id):\n",
    "    if x in stream2data:\n",
    "        continue\n",
    "    stream2data[x] = api.get_channel_videos(\n",
    "        channel_stream_id=x,\n",
    "        start=start,\n",
    "        end=end)"
   ]
  },
  {
   "cell_type": "code",
   "execution_count": 14,
   "id": "f8692b25",
   "metadata": {},
   "outputs": [],
   "source": [
    "with open('temp/data.json', 'w+') as f:\n",
    "    f.write(json.dumps(stream2data))"
   ]
  },
  {
   "cell_type": "code",
   "execution_count": null,
   "id": "8340a8ba",
   "metadata": {},
   "outputs": [],
   "source": []
  }
 ],
 "metadata": {
  "kernelspec": {
   "display_name": "Python 3 (ipykernel)",
   "language": "python",
   "name": "python3"
  },
  "language_info": {
   "codemirror_mode": {
    "name": "ipython",
    "version": 3
   },
   "file_extension": ".py",
   "mimetype": "text/x-python",
   "name": "python",
   "nbconvert_exporter": "python",
   "pygments_lexer": "ipython3",
   "version": "3.12.0"
  }
 },
 "nbformat": 4,
 "nbformat_minor": 5
}
