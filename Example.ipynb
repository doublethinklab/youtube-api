{
 "cells": [
  {
   "cell_type": "code",
   "execution_count": 1,
   "id": "f2afabcf",
   "metadata": {},
   "outputs": [],
   "source": [
    "from youtube_api import YouTubeApi"
   ]
  },
  {
   "cell_type": "code",
   "execution_count": 2,
   "id": "1ff50eb2",
   "metadata": {},
   "outputs": [],
   "source": [
    "api = YouTubeApi()"
   ]
  },
  {
   "cell_type": "code",
   "execution_count": 9,
   "id": "3b3eeeac",
   "metadata": {},
   "outputs": [],
   "source": [
    "video = api.get_video('asnfjccX25I')"
   ]
  },
  {
   "cell_type": "code",
   "execution_count": 10,
   "id": "2e871eda",
   "metadata": {},
   "outputs": [
    {
     "data": {
      "text/plain": [
       "datetime.datetime(2021, 3, 25, 10, 42, 3)"
      ]
     },
     "execution_count": 10,
     "metadata": {},
     "output_type": "execute_result"
    }
   ],
   "source": [
    "video.created_at"
   ]
  },
  {
   "cell_type": "code",
   "execution_count": 11,
   "id": "9aa50797",
   "metadata": {},
   "outputs": [],
   "source": [
    "video = api.get_video('f7eJF6a1zWw')"
   ]
  },
  {
   "cell_type": "code",
   "execution_count": 12,
   "id": "57683ccd",
   "metadata": {},
   "outputs": [
    {
     "data": {
      "text/plain": [
       "datetime.datetime(2021, 3, 25, 6, 4, 2)"
      ]
     },
     "execution_count": 12,
     "metadata": {},
     "output_type": "execute_result"
    }
   ],
   "source": [
    "video.created_at"
   ]
  },
  {
   "cell_type": "code",
   "execution_count": null,
   "id": "e32d27c5",
   "metadata": {},
   "outputs": [],
   "source": []
  }
 ],
 "metadata": {
  "kernelspec": {
   "display_name": "Python 3 (ipykernel)",
   "language": "python",
   "name": "python3"
  },
  "language_info": {
   "codemirror_mode": {
    "name": "ipython",
    "version": 3
   },
   "file_extension": ".py",
   "mimetype": "text/x-python",
   "name": "python",
   "nbconvert_exporter": "python",
   "pygments_lexer": "ipython3",
   "version": "3.9.5"
  }
 },
 "nbformat": 4,
 "nbformat_minor": 5
}
