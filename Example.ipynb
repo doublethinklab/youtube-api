{
 "cells": [
  {
   "cell_type": "code",
   "execution_count": 1,
   "id": "f2afabcf",
   "metadata": {},
   "outputs": [],
   "source": [
    "import os\n",
    "\n",
    "from youtube_api import YouTubeApi"
   ]
  },
  {
   "cell_type": "code",
   "execution_count": 2,
   "id": "1ff50eb2",
   "metadata": {},
   "outputs": [],
   "source": [
    "api = YouTubeApi()"
   ]
  },
  {
   "cell_type": "code",
   "execution_count": 3,
   "id": "3b3eeeac",
   "metadata": {},
   "outputs": [],
   "source": [
    "video = api.get_video('5rHe9OGwMmo')"
   ]
  },
  {
   "cell_type": "code",
   "execution_count": 4,
   "id": "2e871eda",
   "metadata": {},
   "outputs": [
    {
     "data": {
      "text/plain": [
       "datetime.datetime(2021, 3, 26, 13, 41, 30)"
      ]
     },
     "execution_count": 4,
     "metadata": {},
     "output_type": "execute_result"
    }
   ],
   "source": [
    "video.created_at"
   ]
  },
  {
   "cell_type": "code",
   "execution_count": null,
   "id": "e32d27c5",
   "metadata": {},
   "outputs": [],
   "source": []
  }
 ],
 "metadata": {
  "kernelspec": {
   "display_name": "Python 3 (ipykernel)",
   "language": "python",
   "name": "python3"
  },
  "language_info": {
   "codemirror_mode": {
    "name": "ipython",
    "version": 3
   },
   "file_extension": ".py",
   "mimetype": "text/x-python",
   "name": "python",
   "nbconvert_exporter": "python",
   "pygments_lexer": "ipython3",
   "version": "3.9.5"
  }
 },
 "nbformat": 4,
 "nbformat_minor": 5
}
